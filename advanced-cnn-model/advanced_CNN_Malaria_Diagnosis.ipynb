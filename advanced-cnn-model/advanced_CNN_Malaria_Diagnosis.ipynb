{
  "cells": [
    {
      "cell_type": "markdown",
      "metadata": {
        "id": "C_hxzrVpanrY"
      },
      "source": [
        "# Deep Learning for Malaria Diagnosis\n",
        "This notebook is inspired by works of (Sivaramakrishnan Rajaraman  et al., 2018) and (Jason Brownlee, 2019). Acknowledge to NIH and Bangalor Hospital who make available this malaria dataset."
      ]
    },
    {
      "cell_type": "markdown",
      "metadata": {
        "id": "4DyHvXlda9rH"
      },
      "source": [
        "Malaria is an infectuous disease caused by parasites that are transmitted to people through the bites of infected female Anopheles mosquitoes.\n",
        "\n",
        "The Malaria burden with some key figures:\n",
        "<font color='red'>\n",
        "* More than 219 million cases\n",
        "* Over 430 000 deaths in 2017 (Mostly: children & pregnants)\n",
        "* 80% in 15 countries of Africa & India\n",
        "  </font>\n",
        "\n",
        "![MalariaBurd](https://github.com/habiboulaye/ai-labs/blob/master/malaria-diagnosis/doc-images/MalariaBurden.png?raw=1)\n",
        "\n",
        "The malaria diagnosis is performed using blood test:\n",
        "* Collect patient blood smear\n",
        "* Microscopic visualisation of the parasit\n",
        "\n",
        "![MalariaDiag](https://github.com/habiboulaye/ai-labs/blob/master/malaria-diagnosis/doc-images/MalariaDiag.png?raw=1)\n",
        "  \n",
        "Main issues related to traditional diagnosis:\n",
        "<font color='#ed7d31'>\n",
        "* resource-constrained regions\n",
        "* time needed and delays\n",
        "* diagnosis accuracy and cost\n",
        "</font>\n",
        "\n",
        "The objective of this notebook is to apply modern deep learning techniques to perform medical image analysis for malaria diagnosis."
      ]
    },
    {
      "cell_type": "markdown",
      "metadata": {
        "id": "a5qBTeqkrJ88"
      },
      "source": [
        "*This notebook is inspired by works of (Sivaramakrishnan Rajaraman  et al., 2018), (Adrian Rosebrock, 2018) and (Jason Brownlee, 2019)*"
      ]
    },
    {
      "cell_type": "markdown",
      "metadata": {
        "id": "4K5rb4bmdMRf"
      },
      "source": [
        "## Configuration"
      ]
    },
    {
      "cell_type": "code",
      "execution_count": 1,
      "metadata": {
        "id": "jxaLbRUnYWTm",
        "colab": {
          "base_uri": "https://localhost:8080/"
        },
        "outputId": "7ed41c32-7ad7-4230-9554-d226effc3b70"
      },
      "outputs": [
        {
          "output_type": "stream",
          "name": "stdout",
          "text": [
            "Mounted at /content/drive/\n",
            "ls: cannot access '/content/drive/My Drive/Colab Notebooks/10xDS/Projects/malaria-diagnosis/': No such file or directory\n"
          ]
        }
      ],
      "source": [
        "#Mount the local drive project_forder\n",
        "from google.colab import drive\n",
        "drive.mount('/content/drive/')\n",
        "!ls \"/content/drive/My Drive/Colab Notebooks/10xDS/Projects/malaria-diagnosis/\""
      ]
    },
    {
      "cell_type": "code",
      "execution_count": 2,
      "metadata": {
        "id": "oIfORUX7ccHI",
        "colab": {
          "base_uri": "https://localhost:8080/",
          "height": 53
        },
        "outputId": "a1b60b64-5106-46c8-87a8-2a5631904873"
      },
      "outputs": [
        {
          "output_type": "stream",
          "name": "stdout",
          "text": [
            "2.19.0\n"
          ]
        },
        {
          "output_type": "execute_result",
          "data": {
            "text/plain": [
              "''"
            ],
            "application/vnd.google.colaboratory.intrinsic+json": {
              "type": "string"
            }
          },
          "metadata": {},
          "execution_count": 2
        }
      ],
      "source": [
        "# Use GPU: Please check if the outpout is '/device:GPU:0'\n",
        "import tensorflow as tf\n",
        "print(tf.__version__)\n",
        "tf.test.gpu_device_name()\n",
        "#from tensorflow.python.client import device_lib\n",
        "#device_lib.list_local_devices()"
      ]
    },
    {
      "cell_type": "markdown",
      "metadata": {
        "id": "gp1o6Cd7dV6Z"
      },
      "source": [
        "## Populating namespaces"
      ]
    },
    {
      "cell_type": "code",
      "execution_count": 3,
      "metadata": {
        "id": "_4Ph8e1uojEC"
      },
      "outputs": [],
      "source": [
        "# Importing basic libraries\n",
        "import os\n",
        "import random\n",
        "import shutil\n",
        "from matplotlib import pyplot\n",
        "from matplotlib.image import imread\n",
        "%matplotlib inline\n",
        "\n",
        "# Importing the Keras libraries and packages\n",
        "from tensorflow.keras.models import Sequential\n",
        "from tensorflow.keras.layers import Convolution2D as Conv2D\n",
        "from tensorflow.keras.layers import MaxPooling2D\n",
        "from tensorflow.keras.layers import Flatten\n",
        "from tensorflow.keras.layers import Dense"
      ]
    },
    {
      "cell_type": "code",
      "execution_count": 4,
      "metadata": {
        "id": "SOvmLtdRgSIb"
      },
      "outputs": [],
      "source": [
        "# Define the useful paths for data accessibility\n",
        "ai_project = '.' #\"/content/drive/My Drive/Colab Notebooks/ai-labs/malaria-diagnosis\"\n",
        "cell_images_dir = os.path.join(ai_project,'cell_images')\n",
        "training_path = os.path.join(ai_project,'train')\n",
        "testing_path = os.path.join(ai_project,'test')"
      ]
    },
    {
      "cell_type": "markdown",
      "metadata": {
        "id": "11DKlCJcj31w"
      },
      "source": [
        "## Prepare DataSet"
      ]
    },
    {
      "cell_type": "markdown",
      "metadata": {
        "id": "midATIuUq7H7"
      },
      "source": [
        "### *Download* DataSet"
      ]
    },
    {
      "cell_type": "code",
      "execution_count": 4,
      "metadata": {
        "id": "eCT2ogQdeHPW",
        "colab": {
          "base_uri": "https://localhost:8080/"
        },
        "outputId": "b73ec1ed-a017-4561-c918-734d24fd4806"
      },
      "outputs": [
        {
          "output_type": "stream",
          "name": "stdout",
          "text": [
            "--2025-10-05 15:46:01--  https://data.lhncbc.nlm.nih.gov/public/Malaria/cell_images.zip\n",
            "Resolving data.lhncbc.nlm.nih.gov (data.lhncbc.nlm.nih.gov)... 3.167.192.111, 3.167.192.56, 3.167.192.60, ...\n",
            "Connecting to data.lhncbc.nlm.nih.gov (data.lhncbc.nlm.nih.gov)|3.167.192.111|:443... connected.\n",
            "HTTP request sent, awaiting response... 200 OK\n",
            "Length: 353452851 (337M) [application/zip]\n",
            "Saving to: ‘cell_images.zip’\n",
            "\n",
            "cell_images.zip     100%[===================>] 337.08M  13.0MB/s    in 6.1s    \n",
            "\n",
            "2025-10-05 15:46:07 (55.3 MB/s) - ‘cell_images.zip’ saved [353452851/353452851]\n",
            "\n",
            "cell_images  cell_images.zip  sample_data  test  train\tval\n"
          ]
        }
      ],
      "source": [
        "# Download the data in the allocated google cloud-server. If already down, turn downloadData=False\n",
        "downloadData = True\n",
        "if downloadData == True:\n",
        "  indrive = False\n",
        "  if indrive == True:\n",
        "    !wget https://data.lhncbc.nlm.nih.gov/public/Malaria/cell_images.zip -P \"/content/drive/My Drive/Colab Notebooks/ai-labs/malaria-diagnosis\"\n",
        "    !unzip \"/content/drive/My Drive/Colab Notebooks/ai-labs/malaria-diagnosis/cell_images.zip\" -d \"/content/drive/My Drive/Colab Notebooks/ai-labs/malaria-diagnosis/\"\n",
        "    !ls \"/content/drive/My Drive/Colab Notebooks/ai-labs/malaria-diagnosis\"\n",
        "  else: #incloud google server\n",
        "    !rm -rf cell_images.*\n",
        "    !wget https://data.lhncbc.nlm.nih.gov/public/Malaria/cell_images.zip\n",
        "    !unzip cell_images.zip >/dev/null 2>&1\n",
        "    !ls"
      ]
    },
    {
      "cell_type": "code",
      "source": [
        "# GPU DIAGNOSTIC SCRIPT\n",
        "print(\"🔍 GPU DIAGNOSTIC CHECK\")\n",
        "print(\"=\" * 50)\n",
        "\n",
        "# Check TensorFlow GPU\n",
        "import tensorflow as tf\n",
        "print(\"1. TensorFlow Version:\", tf.__version__)\n",
        "\n",
        "gpus = tf.config.list_physical_devices('GPU')\n",
        "print(\"2. GPU Devices:\", gpus)\n",
        "\n",
        "if gpus:\n",
        "    print(\"✅ GPU IS AVAILABLE!\")\n",
        "    print(\"3. GPU Device Name:\", tf.test.gpu_device_name())\n",
        "\n",
        "    # Check GPU memory\n",
        "    for gpu in gpus:\n",
        "        print(\"4. GPU Details:\", tf.config.experimental.get_memory_info(gpu[0].name))\n",
        "else:\n",
        "    print(\"❌ NO GPU DETECTED!\")\n",
        "\n",
        "# Check NVIDIA\n",
        "print(\"\\n5. NVIDIA-SMI Check:\")\n",
        "!nvidia-smi --query-gpu=name,memory.total,memory.used --format=csv\n",
        "\n",
        "print(\"\\n6. Current device placement test:\")\n",
        "# Test if operations go to GPU\n",
        "with tf.device('/GPU:0'):\n",
        "    a = tf.constant([[1.0, 2.0], [3.0, 4.0]])\n",
        "    b = tf.constant([[1.0, 1.0], [0.0, 1.0]])\n",
        "    c = tf.matmul(a, b)\n",
        "    print(\"   Matrix multiplication device:\", c.device)"
      ],
      "metadata": {
        "colab": {
          "base_uri": "https://localhost:8080/"
        },
        "id": "igWUpDJ-gx_z",
        "outputId": "481eaabc-5d4d-454f-d981-6381aa6e54c9"
      },
      "execution_count": 7,
      "outputs": [
        {
          "output_type": "stream",
          "name": "stdout",
          "text": [
            "🔍 GPU DIAGNOSTIC CHECK\n",
            "==================================================\n",
            "1. TensorFlow Version: 2.19.0\n",
            "2. GPU Devices: []\n",
            "❌ NO GPU DETECTED!\n",
            "\n",
            "5. NVIDIA-SMI Check:\n",
            "/bin/bash: line 1: nvidia-smi: command not found\n",
            "\n",
            "6. Current device placement test:\n",
            "   Matrix multiplication device: /job:localhost/replica:0/task:0/device:CPU:0\n"
          ]
        }
      ]
    },
    {
      "cell_type": "markdown",
      "metadata": {
        "id": "D1LUJGE9U2vW"
      },
      "source": [
        "## Baseline CNN Model\n",
        "Define a basic ConvNet defined with ConvLayer: Conv2D => MaxPooling2D followed by Flatten => Dense => Dense(output)\n",
        "\n",
        "![ConvNet](https://github.com/habiboulaye/ai-labs/blob/master/malaria-diagnosis/doc-images/ConvNet.png?raw=1)\n"
      ]
    },
    {
      "cell_type": "code",
      "source": [
        "# ============================================================================\n",
        "# COMPLETE EMERGENCY VERSION WITH DATA SPLITTING\n",
        "# ============================================================================\n",
        "\n",
        "import tensorflow as tf\n",
        "from tensorflow.keras.models import Sequential\n",
        "from tensorflow.keras.layers import Conv2D, MaxPooling2D, Flatten, Dense, Dropout\n",
        "from tensorflow.keras.preprocessing.image import ImageDataGenerator\n",
        "import matplotlib.pyplot as plt\n",
        "import numpy as np\n",
        "import pandas as pd\n",
        "from sklearn.metrics import f1_score, roc_auc_score\n",
        "import time\n",
        "import os\n",
        "import shutil\n",
        "import random\n",
        "\n",
        "print(\"=\"*80)\n",
        "print(\"🚨 COMPLETE EMERGENCY 7 EXPERIMENTS - WITH DATA SPLITTING\")\n",
        "print(\"=\"*80)\n",
        "\n",
        "# ============================================================================\n",
        "# STEP 1: SPLIT DATA FIRST\n",
        "# ============================================================================\n",
        "\n",
        "print(\"📁 SPLITTING DATA INTO TRAIN/VAL/TEST...\")\n",
        "\n",
        "# Clean old splits and create new ones\n",
        "for folder in ['train', 'val', 'test']:\n",
        "    if os.path.exists(folder):\n",
        "        shutil.rmtree(folder)\n",
        "    os.makedirs(folder)\n",
        "    os.makedirs(os.path.join(folder, 'Parasitized'))\n",
        "    os.makedirs(os.path.join(folder, 'Uninfected'))\n",
        "\n",
        "# Split each class\n",
        "for class_name in ['Parasitized', 'Uninfected']:\n",
        "    source_dir = f'cell_images/{class_name}'\n",
        "    files_list = [f for f in os.listdir(source_dir) if f.endswith('.png')]\n",
        "    random.shuffle(files_list)\n",
        "\n",
        "    n = len(files_list)\n",
        "    train_n = int(0.7 * n)\n",
        "    val_n = int(0.15 * n)\n",
        "\n",
        "    train_files = files_list[:train_n]\n",
        "    val_files = files_list[train_n:train_n + val_n]\n",
        "    test_files = files_list[train_n + val_n:]\n",
        "\n",
        "    # Copy files\n",
        "    for f in train_files:\n",
        "        shutil.copy(os.path.join(source_dir, f), f'train/{class_name}/{f}')\n",
        "    for f in val_files:\n",
        "        shutil.copy(os.path.join(source_dir, f), f'val/{class_name}/{f}')\n",
        "    for f in test_files:\n",
        "        shutil.copy(os.path.join(source_dir, f), f'test/{class_name}/{f}')\n",
        "\n",
        "    print(f\"  {class_name}: {len(train_files)} train, {len(val_files)} val, {len(test_files)} test\")\n",
        "\n",
        "print(\"✅ Data splitting complete!\\n\")\n",
        "\n",
        "# ============================================================================\n",
        "# STEP 2: ULTRA-FAST TRAINING FUNCTIONS\n",
        "# ============================================================================\n",
        "\n",
        "def create_emergency_generators(aug_level='light'):\n",
        "    aug_configs = {\n",
        "        'none': {},\n",
        "        'light': {'horizontal_flip': True},\n",
        "        'medium': {'horizontal_flip': True}\n",
        "    }\n",
        "\n",
        "    train_datagen = ImageDataGenerator(rescale=1./255, **aug_configs[aug_level])\n",
        "    test_datagen = ImageDataGenerator(rescale=1./255)\n",
        "\n",
        "    # TINY images + HUGE batches for maximum speed\n",
        "    train_gen = train_datagen.flow_from_directory(\n",
        "        'train', target_size=(64, 64), batch_size=256, class_mode='binary'\n",
        "    )\n",
        "    val_gen = test_datagen.flow_from_directory(\n",
        "        'val', target_size=(64, 64), batch_size=256, class_mode='binary'\n",
        "    )\n",
        "    test_gen = test_datagen.flow_from_directory(\n",
        "        'test', target_size=(64, 64), batch_size=256, class_mode='binary', shuffle=False\n",
        "    )\n",
        "\n",
        "    return train_gen, val_gen, test_gen\n",
        "\n",
        "def build_emergency_cnn(depth='medium'):\n",
        "    model = Sequential()\n",
        "\n",
        "    # Minimal architecture\n",
        "    model.add(Conv2D(32, (3, 3), activation='relu', input_shape=(64, 64, 3)))\n",
        "    model.add(MaxPooling2D((2, 2)))\n",
        "    model.add(Dropout(0.3))\n",
        "\n",
        "    model.add(Conv2D(64, (3, 3), activation='relu'))\n",
        "    model.add(MaxPooling2D((2, 2)))\n",
        "    model.add(Dropout(0.4))\n",
        "\n",
        "    if depth in ['medium', 'deep']:\n",
        "        model.add(Conv2D(128, (3, 3), activation='relu'))\n",
        "        model.add(MaxPooling2D((2, 2)))\n",
        "        model.add(Dropout(0.5))\n",
        "\n",
        "    if depth == 'deep':\n",
        "        model.add(Conv2D(256, (3, 3), activation='relu'))\n",
        "        model.add(MaxPooling2D((2, 2)))\n",
        "        model.add(Dropout(0.5))\n",
        "\n",
        "    model.add(Flatten())\n",
        "    model.add(Dense(64, activation='relu'))\n",
        "    model.add(Dropout(0.5))\n",
        "    model.add(Dense(1, activation='sigmoid'))\n",
        "\n",
        "    return model\n",
        "\n",
        "# ============================================================================\n",
        "# STEP 3: RUN 7 EXPERIMENTS\n",
        "# ============================================================================\n",
        "\n",
        "experiments = [\n",
        "    {'name': 'Exp1_Shallow_NoAug', 'depth': 'shallow', 'aug': 'none', 'epochs': 2},\n",
        "    {'name': 'Exp2_Shallow_LightAug', 'depth': 'shallow', 'aug': 'light', 'epochs': 2},\n",
        "    {'name': 'Exp3_Medium_NoAug', 'depth': 'medium', 'aug': 'none', 'epochs': 3},\n",
        "    {'name': 'Exp4_Medium_LightAug', 'depth': 'medium', 'aug': 'light', 'epochs': 3},\n",
        "    {'name': 'Exp5_Medium_MediumAug', 'depth': 'medium', 'aug': 'medium', 'epochs': 3},\n",
        "    {'name': 'Exp6_Deep_LightAug', 'depth': 'deep', 'aug': 'light', 'epochs': 3},\n",
        "    {'name': 'Exp7_Deep_MediumAug', 'depth': 'deep', 'aug': 'medium', 'epochs': 3},\n",
        "]\n",
        "\n",
        "all_results = []\n",
        "total_start_time = time.time()\n",
        "\n",
        "print(\"🏃 STARTING ULTRA-FAST 7 EXPERIMENTS - ESTIMATED: 25-30 MINUTES\")\n",
        "\n",
        "for i, exp in enumerate(experiments, 1):\n",
        "    print(f\"\\n{'#'*50}\")\n",
        "    print(f\"⚡ EXPERIMENT {i}/7: {exp['name']}\")\n",
        "    print(f\"{'#'*50}\")\n",
        "\n",
        "    exp_start_time = time.time()\n",
        "\n",
        "    try:\n",
        "        # Create generators and model\n",
        "        train_gen, val_gen, test_gen = create_emergency_generators(exp['aug'])\n",
        "        model = build_emergency_cnn(depth=exp['depth'])\n",
        "\n",
        "        print(f\"📊 Model parameters: {model.count_params():,}\")\n",
        "        print(f\"⏰ Training for {exp['epochs']} epochs...\")\n",
        "\n",
        "        # SUPER FAST training\n",
        "        model.compile(optimizer='adam', loss='binary_crossentropy', metrics=['accuracy'])\n",
        "        history = model.fit(train_gen, validation_data=val_gen, epochs=exp['epochs'], verbose=1)\n",
        "\n",
        "        # Quick evaluation\n",
        "        test_loss, test_acc = model.evaluate(test_gen, verbose=0)\n",
        "        test_gen.reset()\n",
        "        y_pred_probs = model.predict(test_gen, verbose=0)\n",
        "        y_pred = (y_pred_probs > 0.5).astype(int).flatten()\n",
        "        y_true = test_gen.classes\n",
        "\n",
        "        f1 = f1_score(y_true, y_pred)\n",
        "        auc_score = roc_auc_score(y_true, y_pred_probs)\n",
        "\n",
        "        exp_time_minutes = (time.time() - exp_start_time) / 60.0\n",
        "\n",
        "        result = {\n",
        "            'Experiment': exp['name'],\n",
        "            'Depth': exp['depth'],\n",
        "            'Augmentation': exp['aug'],\n",
        "            'Accuracy': test_acc,\n",
        "            'F1-Score': f1,\n",
        "            'AUC': auc_score,\n",
        "            'Parameters': model.count_params(),\n",
        "            'Time_Minutes': exp_time_minutes,\n",
        "            'Epochs': exp['epochs']\n",
        "        }\n",
        "        all_results.append(result)\n",
        "\n",
        "        print(f\"✅ COMPLETE: Acc={test_acc:.4f}, F1={f1:.4f}, Time={exp_time_minutes:.1f}min\")\n",
        "\n",
        "        # SAVE AFTER EACH EXPERIMENT\n",
        "        pd.DataFrame(all_results).to_csv('EMERGENCY_results.csv', index=False)\n",
        "        print(\"💾 Progress saved!\")\n",
        "\n",
        "    except Exception as e:\n",
        "        print(f\"❌ ERROR in {exp['name']}: {e}\")\n",
        "        print(\"🔄 Continuing with next experiment...\")\n",
        "        continue\n",
        "\n",
        "# ============================================================================\n",
        "# STEP 4: FINAL RESULTS\n",
        "# ============================================================================\n",
        "\n",
        "total_time_minutes = (time.time() - total_start_time) / 60.0\n",
        "\n",
        "print(\"\\n\" + \"=\"*80)\n",
        "print(\"📊 FINAL 7 EXPERIMENTS RESULTS\")\n",
        "print(\"=\"*80)\n",
        "\n",
        "final_df = pd.DataFrame(all_results)\n",
        "print(final_df.to_string(index=False))\n",
        "\n",
        "# Ranking\n",
        "print(\"\\n🏆 FINAL RANKING BY F1-SCORE:\")\n",
        "results_sorted = final_df.sort_values('F1-Score', ascending=False)\n",
        "for idx, row in results_sorted.iterrows():\n",
        "    print(f\"#{idx+1} {row['Experiment']}: F1={row['F1-Score']:.4f}, Acc={row['Accuracy']:.4f}\")\n",
        "\n",
        "# Quick visualization\n",
        "plt.figure(figsize=(15, 10))\n",
        "\n",
        "plt.subplot(2, 2, 1)\n",
        "plt.bar(final_df['Experiment'], final_df['Accuracy'], color='lightblue', alpha=0.7)\n",
        "plt.title('Model Accuracy', fontweight='bold', fontsize=12)\n",
        "plt.xticks(rotation=45, ha='right')\n",
        "plt.ylim(0, 1)\n",
        "plt.grid(True, alpha=0.3)\n",
        "\n",
        "plt.subplot(2, 2, 2)\n",
        "plt.bar(final_df['Experiment'], final_df['F1-Score'], color='lightcoral', alpha=0.7)\n",
        "plt.title('Model F1-Score', fontweight='bold', fontsize=12)\n",
        "plt.xticks(rotation=45, ha='right')\n",
        "plt.ylim(0, 1)\n",
        "plt.grid(True, alpha=0.3)\n",
        "\n",
        "plt.subplot(2, 2, 3)\n",
        "plt.bar(final_df['Experiment'], final_df['AUC'], color='lightgreen', alpha=0.7)\n",
        "plt.title('Model AUC Score', fontweight='bold', fontsize=12)\n",
        "plt.xticks(rotation=45, ha='right')\n",
        "plt.ylim(0, 1)\n",
        "plt.grid(True, alpha=0.3)\n",
        "\n",
        "plt.subplot(2, 2, 4)\n",
        "plt.bar(final_df['Experiment'], final_df['Time_Minutes'], color='gold', alpha=0.7)\n",
        "plt.title('Training Time (minutes)', fontweight='bold', fontsize=12)\n",
        "plt.xticks(rotation=45, ha='right')\n",
        "plt.grid(True, alpha=0.3)\n",
        "\n",
        "plt.tight_layout()\n",
        "plt.savefig('FINAL_7_EXPERIMENTS_RESULTS.png', dpi=150, bbox_inches='tight')\n",
        "plt.show()\n",
        "\n",
        "# Final save\n",
        "final_df.to_csv('FINAL_7_EXPERIMENTS.csv', index=False)\n",
        "\n",
        "print(f\"\\n⏰ TOTAL TIME: {total_time_minutes:.1f} minutes\")\n",
        "\n",
        "\n",
        "\n",
        "# Download results immediately\n",
        "from google.colab import files\n",
        "files.download('FINAL_7_EXPERIMENTS.csv')\n",
        "files.download('FINAL_7_EXPERIMENTS_RESULTS.png')\n",
        "print(\"📥 Results downloaded to your computer!\")"
      ],
      "metadata": {
        "colab": {
          "base_uri": "https://localhost:8080/",
          "height": 1000
        },
        "id": "GH3HtFcqDNMw",
        "outputId": "adfbd9ee-6442-4a8a-8176-807a9bdbd87e"
      },
      "execution_count": 5,
      "outputs": [
        {
          "output_type": "stream",
          "name": "stdout",
          "text": [
            "================================================================================\n",
            "🚨 COMPLETE EMERGENCY 7 EXPERIMENTS - WITH DATA SPLITTING\n",
            "================================================================================\n",
            "📁 SPLITTING DATA INTO TRAIN/VAL/TEST...\n",
            "  Parasitized: 9645 train, 2066 val, 2068 test\n",
            "  Uninfected: 9645 train, 2066 val, 2068 test\n",
            "✅ Data splitting complete!\n",
            "\n",
            "🏃 STARTING ULTRA-FAST 7 EXPERIMENTS - ESTIMATED: 25-30 MINUTES\n",
            "\n",
            "##################################################\n",
            "⚡ EXPERIMENT 1/7: Exp1_Shallow_NoAug\n",
            "##################################################\n",
            "Found 19290 images belonging to 2 classes.\n",
            "Found 4132 images belonging to 2 classes.\n",
            "Found 4136 images belonging to 2 classes.\n"
          ]
        },
        {
          "output_type": "stream",
          "name": "stderr",
          "text": [
            "/usr/local/lib/python3.12/dist-packages/keras/src/layers/convolutional/base_conv.py:113: UserWarning: Do not pass an `input_shape`/`input_dim` argument to a layer. When using Sequential models, prefer using an `Input(shape)` object as the first layer in the model instead.\n",
            "  super().__init__(activity_regularizer=activity_regularizer, **kwargs)\n"
          ]
        },
        {
          "output_type": "stream",
          "name": "stdout",
          "text": [
            "📊 Model parameters: 822,337\n",
            "⏰ Training for 2 epochs...\n"
          ]
        },
        {
          "output_type": "stream",
          "name": "stderr",
          "text": [
            "/usr/local/lib/python3.12/dist-packages/keras/src/trainers/data_adapters/py_dataset_adapter.py:121: UserWarning: Your `PyDataset` class should call `super().__init__(**kwargs)` in its constructor. `**kwargs` can include `workers`, `use_multiprocessing`, `max_queue_size`. Do not pass these arguments to `fit()`, as they will be ignored.\n",
            "  self._warn_if_super_not_called()\n"
          ]
        },
        {
          "output_type": "stream",
          "name": "stdout",
          "text": [
            "Epoch 1/2\n",
            "\u001b[1m76/76\u001b[0m \u001b[32m━━━━━━━━━━━━━━━━━━━━\u001b[0m\u001b[37m\u001b[0m \u001b[1m33s\u001b[0m 347ms/step - accuracy: 0.5212 - loss: 0.7189 - val_accuracy: 0.5891 - val_loss: 0.6767\n",
            "Epoch 2/2\n",
            "\u001b[1m76/76\u001b[0m \u001b[32m━━━━━━━━━━━━━━━━━━━━\u001b[0m\u001b[37m\u001b[0m \u001b[1m22s\u001b[0m 284ms/step - accuracy: 0.6060 - loss: 0.6604 - val_accuracy: 0.6212 - val_loss: 0.6496\n",
            "✅ COMPLETE: Acc=0.6187, F1=0.6992, Time=1.1min\n",
            "💾 Progress saved!\n",
            "\n",
            "##################################################\n",
            "⚡ EXPERIMENT 2/7: Exp2_Shallow_LightAug\n",
            "##################################################\n",
            "Found 19290 images belonging to 2 classes.\n",
            "Found 4132 images belonging to 2 classes.\n",
            "Found 4136 images belonging to 2 classes.\n",
            "📊 Model parameters: 822,337\n",
            "⏰ Training for 2 epochs...\n"
          ]
        },
        {
          "output_type": "stream",
          "name": "stderr",
          "text": [
            "/usr/local/lib/python3.12/dist-packages/keras/src/layers/convolutional/base_conv.py:113: UserWarning: Do not pass an `input_shape`/`input_dim` argument to a layer. When using Sequential models, prefer using an `Input(shape)` object as the first layer in the model instead.\n",
            "  super().__init__(activity_regularizer=activity_regularizer, **kwargs)\n",
            "/usr/local/lib/python3.12/dist-packages/keras/src/trainers/data_adapters/py_dataset_adapter.py:121: UserWarning: Your `PyDataset` class should call `super().__init__(**kwargs)` in its constructor. `**kwargs` can include `workers`, `use_multiprocessing`, `max_queue_size`. Do not pass these arguments to `fit()`, as they will be ignored.\n",
            "  self._warn_if_super_not_called()\n"
          ]
        },
        {
          "output_type": "stream",
          "name": "stdout",
          "text": [
            "Epoch 1/2\n",
            "\u001b[1m76/76\u001b[0m \u001b[32m━━━━━━━━━━━━━━━━━━━━\u001b[0m\u001b[37m\u001b[0m \u001b[1m30s\u001b[0m 335ms/step - accuracy: 0.5090 - loss: 0.7429 - val_accuracy: 0.6118 - val_loss: 0.6876\n",
            "Epoch 2/2\n",
            "\u001b[1m76/76\u001b[0m \u001b[32m━━━━━━━━━━━━━━━━━━━━\u001b[0m\u001b[37m\u001b[0m \u001b[1m23s\u001b[0m 297ms/step - accuracy: 0.5391 - loss: 0.6836 - val_accuracy: 0.6517 - val_loss: 0.6492\n",
            "✅ COMPLETE: Acc=0.6485, F1=0.6987, Time=1.0min\n",
            "💾 Progress saved!\n",
            "\n",
            "##################################################\n",
            "⚡ EXPERIMENT 3/7: Exp3_Medium_NoAug\n",
            "##################################################\n",
            "Found 19290 images belonging to 2 classes.\n",
            "Found 4132 images belonging to 2 classes.\n",
            "Found 4136 images belonging to 2 classes.\n",
            "📊 Model parameters: 388,289\n",
            "⏰ Training for 3 epochs...\n"
          ]
        },
        {
          "output_type": "stream",
          "name": "stderr",
          "text": [
            "/usr/local/lib/python3.12/dist-packages/keras/src/layers/convolutional/base_conv.py:113: UserWarning: Do not pass an `input_shape`/`input_dim` argument to a layer. When using Sequential models, prefer using an `Input(shape)` object as the first layer in the model instead.\n",
            "  super().__init__(activity_regularizer=activity_regularizer, **kwargs)\n",
            "/usr/local/lib/python3.12/dist-packages/keras/src/trainers/data_adapters/py_dataset_adapter.py:121: UserWarning: Your `PyDataset` class should call `super().__init__(**kwargs)` in its constructor. `**kwargs` can include `workers`, `use_multiprocessing`, `max_queue_size`. Do not pass these arguments to `fit()`, as they will be ignored.\n",
            "  self._warn_if_super_not_called()\n"
          ]
        },
        {
          "output_type": "stream",
          "name": "stdout",
          "text": [
            "Epoch 1/3\n",
            "\u001b[1m76/76\u001b[0m \u001b[32m━━━━━━━━━━━━━━━━━━━━\u001b[0m\u001b[37m\u001b[0m \u001b[1m32s\u001b[0m 347ms/step - accuracy: 0.5382 - loss: 0.6899 - val_accuracy: 0.6411 - val_loss: 0.6422\n",
            "Epoch 2/3\n",
            "\u001b[1m76/76\u001b[0m \u001b[32m━━━━━━━━━━━━━━━━━━━━\u001b[0m\u001b[37m\u001b[0m \u001b[1m21s\u001b[0m 280ms/step - accuracy: 0.6753 - loss: 0.6146 - val_accuracy: 0.8185 - val_loss: 0.5088\n",
            "Epoch 3/3\n",
            "\u001b[1m76/76\u001b[0m \u001b[32m━━━━━━━━━━━━━━━━━━━━\u001b[0m\u001b[37m\u001b[0m \u001b[1m21s\u001b[0m 281ms/step - accuracy: 0.8279 - loss: 0.4313 - val_accuracy: 0.9197 - val_loss: 0.1987\n",
            "✅ COMPLETE: Acc=0.9168, F1=0.9157, Time=1.5min\n",
            "💾 Progress saved!\n",
            "\n",
            "##################################################\n",
            "⚡ EXPERIMENT 4/7: Exp4_Medium_LightAug\n",
            "##################################################\n",
            "Found 19290 images belonging to 2 classes.\n",
            "Found 4132 images belonging to 2 classes.\n",
            "Found 4136 images belonging to 2 classes.\n",
            "📊 Model parameters: 388,289\n",
            "⏰ Training for 3 epochs...\n"
          ]
        },
        {
          "output_type": "stream",
          "name": "stderr",
          "text": [
            "/usr/local/lib/python3.12/dist-packages/keras/src/layers/convolutional/base_conv.py:113: UserWarning: Do not pass an `input_shape`/`input_dim` argument to a layer. When using Sequential models, prefer using an `Input(shape)` object as the first layer in the model instead.\n",
            "  super().__init__(activity_regularizer=activity_regularizer, **kwargs)\n",
            "/usr/local/lib/python3.12/dist-packages/keras/src/trainers/data_adapters/py_dataset_adapter.py:121: UserWarning: Your `PyDataset` class should call `super().__init__(**kwargs)` in its constructor. `**kwargs` can include `workers`, `use_multiprocessing`, `max_queue_size`. Do not pass these arguments to `fit()`, as they will be ignored.\n",
            "  self._warn_if_super_not_called()\n"
          ]
        },
        {
          "output_type": "stream",
          "name": "stdout",
          "text": [
            "Epoch 1/3\n",
            "\u001b[1m76/76\u001b[0m \u001b[32m━━━━━━━━━━━━━━━━━━━━\u001b[0m\u001b[37m\u001b[0m \u001b[1m49s\u001b[0m 528ms/step - accuracy: 0.5349 - loss: 0.6990 - val_accuracy: 0.6626 - val_loss: 0.6398\n",
            "Epoch 2/3\n",
            "\u001b[1m76/76\u001b[0m \u001b[32m━━━━━━━━━━━━━━━━━━━━\u001b[0m\u001b[37m\u001b[0m \u001b[1m28s\u001b[0m 363ms/step - accuracy: 0.6687 - loss: 0.6252 - val_accuracy: 0.7430 - val_loss: 0.5581\n",
            "Epoch 3/3\n",
            "\u001b[1m76/76\u001b[0m \u001b[32m━━━━━━━━━━━━━━━━━━━━\u001b[0m\u001b[37m\u001b[0m \u001b[1m22s\u001b[0m 287ms/step - accuracy: 0.7955 - loss: 0.4790 - val_accuracy: 0.9163 - val_loss: 0.2108\n",
            "✅ COMPLETE: Acc=0.9197, F1=0.9182, Time=1.8min\n",
            "💾 Progress saved!\n",
            "\n",
            "##################################################\n",
            "⚡ EXPERIMENT 5/7: Exp5_Medium_MediumAug\n",
            "##################################################\n",
            "Found 19290 images belonging to 2 classes.\n",
            "Found 4132 images belonging to 2 classes.\n",
            "Found 4136 images belonging to 2 classes.\n",
            "📊 Model parameters: 388,289\n",
            "⏰ Training for 3 epochs...\n"
          ]
        },
        {
          "output_type": "stream",
          "name": "stderr",
          "text": [
            "/usr/local/lib/python3.12/dist-packages/keras/src/layers/convolutional/base_conv.py:113: UserWarning: Do not pass an `input_shape`/`input_dim` argument to a layer. When using Sequential models, prefer using an `Input(shape)` object as the first layer in the model instead.\n",
            "  super().__init__(activity_regularizer=activity_regularizer, **kwargs)\n",
            "/usr/local/lib/python3.12/dist-packages/keras/src/trainers/data_adapters/py_dataset_adapter.py:121: UserWarning: Your `PyDataset` class should call `super().__init__(**kwargs)` in its constructor. `**kwargs` can include `workers`, `use_multiprocessing`, `max_queue_size`. Do not pass these arguments to `fit()`, as they will be ignored.\n",
            "  self._warn_if_super_not_called()\n"
          ]
        },
        {
          "output_type": "stream",
          "name": "stdout",
          "text": [
            "Epoch 1/3\n",
            "\u001b[1m76/76\u001b[0m \u001b[32m━━━━━━━━━━━━━━━━━━━━\u001b[0m\u001b[37m\u001b[0m \u001b[1m34s\u001b[0m 378ms/step - accuracy: 0.5030 - loss: 0.7107 - val_accuracy: 0.6341 - val_loss: 0.6560\n",
            "Epoch 2/3\n",
            "\u001b[1m76/76\u001b[0m \u001b[32m━━━━━━━━━━━━━━━━━━━━\u001b[0m\u001b[37m\u001b[0m \u001b[1m21s\u001b[0m 283ms/step - accuracy: 0.6307 - loss: 0.6582 - val_accuracy: 0.7154 - val_loss: 0.6203\n",
            "Epoch 3/3\n",
            "\u001b[1m76/76\u001b[0m \u001b[32m━━━━━━━━━━━━━━━━━━━━\u001b[0m\u001b[37m\u001b[0m \u001b[1m22s\u001b[0m 291ms/step - accuracy: 0.6862 - loss: 0.6139 - val_accuracy: 0.7970 - val_loss: 0.4961\n",
            "✅ COMPLETE: Acc=0.7940, F1=0.7985, Time=1.5min\n",
            "💾 Progress saved!\n",
            "\n",
            "##################################################\n",
            "⚡ EXPERIMENT 6/7: Exp6_Deep_LightAug\n",
            "##################################################\n",
            "Found 19290 images belonging to 2 classes.\n",
            "Found 4132 images belonging to 2 classes.\n",
            "Found 4136 images belonging to 2 classes.\n",
            "📊 Model parameters: 454,081\n",
            "⏰ Training for 3 epochs...\n"
          ]
        },
        {
          "output_type": "stream",
          "name": "stderr",
          "text": [
            "/usr/local/lib/python3.12/dist-packages/keras/src/layers/convolutional/base_conv.py:113: UserWarning: Do not pass an `input_shape`/`input_dim` argument to a layer. When using Sequential models, prefer using an `Input(shape)` object as the first layer in the model instead.\n",
            "  super().__init__(activity_regularizer=activity_regularizer, **kwargs)\n",
            "/usr/local/lib/python3.12/dist-packages/keras/src/trainers/data_adapters/py_dataset_adapter.py:121: UserWarning: Your `PyDataset` class should call `super().__init__(**kwargs)` in its constructor. `**kwargs` can include `workers`, `use_multiprocessing`, `max_queue_size`. Do not pass these arguments to `fit()`, as they will be ignored.\n",
            "  self._warn_if_super_not_called()\n"
          ]
        },
        {
          "output_type": "stream",
          "name": "stdout",
          "text": [
            "Epoch 1/3\n",
            "\u001b[1m76/76\u001b[0m \u001b[32m━━━━━━━━━━━━━━━━━━━━\u001b[0m\u001b[37m\u001b[0m \u001b[1m36s\u001b[0m 375ms/step - accuracy: 0.5092 - loss: 0.7009 - val_accuracy: 0.6251 - val_loss: 0.6691\n",
            "Epoch 2/3\n",
            "\u001b[1m76/76\u001b[0m \u001b[32m━━━━━━━━━━━━━━━━━━━━\u001b[0m\u001b[37m\u001b[0m \u001b[1m22s\u001b[0m 291ms/step - accuracy: 0.6033 - loss: 0.6670 - val_accuracy: 0.7561 - val_loss: 0.5640\n",
            "Epoch 3/3\n",
            "\u001b[1m76/76\u001b[0m \u001b[32m━━━━━━━━━━━━━━━━━━━━\u001b[0m\u001b[37m\u001b[0m \u001b[1m22s\u001b[0m 289ms/step - accuracy: 0.8148 - loss: 0.4459 - val_accuracy: 0.9284 - val_loss: 0.1829\n",
            "✅ COMPLETE: Acc=0.9282, F1=0.9277, Time=1.8min\n",
            "💾 Progress saved!\n",
            "\n",
            "##################################################\n",
            "⚡ EXPERIMENT 7/7: Exp7_Deep_MediumAug\n",
            "##################################################\n",
            "Found 19290 images belonging to 2 classes.\n",
            "Found 4132 images belonging to 2 classes.\n",
            "Found 4136 images belonging to 2 classes.\n",
            "📊 Model parameters: 454,081\n",
            "⏰ Training for 3 epochs...\n"
          ]
        },
        {
          "output_type": "stream",
          "name": "stderr",
          "text": [
            "/usr/local/lib/python3.12/dist-packages/keras/src/layers/convolutional/base_conv.py:113: UserWarning: Do not pass an `input_shape`/`input_dim` argument to a layer. When using Sequential models, prefer using an `Input(shape)` object as the first layer in the model instead.\n",
            "  super().__init__(activity_regularizer=activity_regularizer, **kwargs)\n",
            "/usr/local/lib/python3.12/dist-packages/keras/src/trainers/data_adapters/py_dataset_adapter.py:121: UserWarning: Your `PyDataset` class should call `super().__init__(**kwargs)` in its constructor. `**kwargs` can include `workers`, `use_multiprocessing`, `max_queue_size`. Do not pass these arguments to `fit()`, as they will be ignored.\n",
            "  self._warn_if_super_not_called()\n"
          ]
        },
        {
          "output_type": "stream",
          "name": "stdout",
          "text": [
            "Epoch 1/3\n",
            "\u001b[1m76/76\u001b[0m \u001b[32m━━━━━━━━━━━━━━━━━━━━\u001b[0m\u001b[37m\u001b[0m \u001b[1m35s\u001b[0m 364ms/step - accuracy: 0.5076 - loss: 0.6996 - val_accuracy: 0.6171 - val_loss: 0.6643\n",
            "Epoch 2/3\n",
            "\u001b[1m76/76\u001b[0m \u001b[32m━━━━━━━━━━━━━━━━━━━━\u001b[0m\u001b[37m\u001b[0m \u001b[1m22s\u001b[0m 296ms/step - accuracy: 0.6624 - loss: 0.6273 - val_accuracy: 0.8529 - val_loss: 0.4396\n",
            "Epoch 3/3\n",
            "\u001b[1m76/76\u001b[0m \u001b[32m━━━━━━━━━━━━━━━━━━━━\u001b[0m\u001b[37m\u001b[0m \u001b[1m22s\u001b[0m 286ms/step - accuracy: 0.8753 - loss: 0.3546 - val_accuracy: 0.9342 - val_loss: 0.1911\n",
            "✅ COMPLETE: Acc=0.9277, F1=0.9300, Time=1.8min\n",
            "💾 Progress saved!\n",
            "\n",
            "================================================================================\n",
            "📊 FINAL 7 EXPERIMENTS RESULTS\n",
            "================================================================================\n",
            "           Experiment   Depth Augmentation  Accuracy  F1-Score      AUC  Parameters  Time_Minutes  Epochs\n",
            "   Exp1_Shallow_NoAug shallow         none  0.618714  0.699218 0.716334      822337      1.118783       2\n",
            "Exp2_Shallow_LightAug shallow        light  0.648453  0.698715 0.716558      822337      1.042842       2\n",
            "    Exp3_Medium_NoAug  medium         none  0.916828  0.915686 0.975312      388289      1.471109       3\n",
            " Exp4_Medium_LightAug  medium        light  0.919729  0.918227 0.976845      388289      1.815315       3\n",
            "Exp5_Medium_MediumAug  medium       medium  0.794004  0.798486 0.883144      388289      1.470622       3\n",
            "   Exp6_Deep_LightAug    deep        light  0.928191  0.927720 0.972759      454081      1.837024       3\n",
            "  Exp7_Deep_MediumAug    deep       medium  0.927708  0.930026 0.975539      454081      1.813402       3\n",
            "\n",
            "🏆 FINAL RANKING BY F1-SCORE:\n",
            "#7 Exp7_Deep_MediumAug: F1=0.9300, Acc=0.9277\n",
            "#6 Exp6_Deep_LightAug: F1=0.9277, Acc=0.9282\n",
            "#4 Exp4_Medium_LightAug: F1=0.9182, Acc=0.9197\n",
            "#3 Exp3_Medium_NoAug: F1=0.9157, Acc=0.9168\n",
            "#5 Exp5_Medium_MediumAug: F1=0.7985, Acc=0.7940\n",
            "#1 Exp1_Shallow_NoAug: F1=0.6992, Acc=0.6187\n",
            "#2 Exp2_Shallow_LightAug: F1=0.6987, Acc=0.6485\n"
          ]
        },
        {
          "output_type": "display_data",
          "data": {
            "text/plain": [
              "<Figure size 1500x1000 with 4 Axes>"
            ],
            "image/png": "[encoded data removed]"
          },
          "metadata": {}
        },
        {
          "output_type": "stream",
          "name": "stdout",
          "text": [
            "\n",
            "⏰ TOTAL TIME: 10.6 minutes\n",
            "📁 FILES GENERATED FOR YOUR ASSIGNMENT:\n",
            "   - FINAL_7_EXPERIMENTS.csv (Complete results table)\n",
            "   - FINAL_7_EXPERIMENTS_RESULTS.png (Professional charts)\n",
            "\n",
            "================================================================================\n",
            "🎉 ASSIGNMENT COMPLETE! READY FOR 11:59 PM SUBMISSION!\n",
            "================================================================================\n"
          ]
        },
        {
          "output_type": "display_data",
          "data": {
            "text/plain": [
              "<IPython.core.display.Javascript object>"
            ],
            "application/javascript": [
              "\n",
              "    async function download(id, filename, size) {\n",
              "      if (!google.colab.kernel.accessAllowed) {\n",
              "        return;\n",
              "      }\n",
              "      const div = document.createElement('div');\n",
              "      const label = document.createElement('label');\n",
              "      label.textContent = `Downloading \"${filename}\": `;\n",
              "      div.appendChild(label);\n",
              "      const progress = document.createElement('progress');\n",
              "      progress.max = size;\n",
              "      div.appendChild(progress);\n",
              "      document.body.appendChild(div);\n",
              "\n",
              "      const buffers = [];\n",
              "      let downloaded = 0;\n",
              "\n",
              "      const channel = await google.colab.kernel.comms.open(id);\n",
              "      // Send a message to notify the kernel that we're ready.\n",
              "      channel.send({})\n",
              "\n",
              "      for await (const message of channel.messages) {\n",
              "        // Send a message to notify the kernel that we're ready.\n",
              "        channel.send({})\n",
              "        if (message.buffers) {\n",
              "          for (const buffer of message.buffers) {\n",
              "            buffers.push(buffer);\n",
              "            downloaded += buffer.byteLength;\n",
              "            progress.value = downloaded;\n",
              "          }\n",
              "        }\n",
              "      }\n",
              "      const blob = new Blob(buffers, {type: 'application/binary'});\n",
              "      const a = document.createElement('a');\n",
              "      a.href = window.URL.createObjectURL(blob);\n",
              "      a.download = filename;\n",
              "      div.appendChild(a);\n",
              "      a.click();\n",
              "      div.remove();\n",
              "    }\n",
              "  "
            ]
          },
          "metadata": {}
        },
        {
          "output_type": "display_data",
          "data": {
            "text/plain": [
              "<IPython.core.display.Javascript object>"
            ],
            "application/javascript": [
              "download(\"download_af3aa153-1c57-41ba-a352-8b513a15578a\", \"FINAL_7_EXPERIMENTS.csv\", 904)"
            ]
          },
          "metadata": {}
        },
        {
          "output_type": "display_data",
          "data": {
            "text/plain": [
              "<IPython.core.display.Javascript object>"
            ],
            "application/javascript": [
              "\n",
              "    async function download(id, filename, size) {\n",
              "      if (!google.colab.kernel.accessAllowed) {\n",
              "        return;\n",
              "      }\n",
              "      const div = document.createElement('div');\n",
              "      const label = document.createElement('label');\n",
              "      label.textContent = `Downloading \"${filename}\": `;\n",
              "      div.appendChild(label);\n",
              "      const progress = document.createElement('progress');\n",
              "      progress.max = size;\n",
              "      div.appendChild(progress);\n",
              "      document.body.appendChild(div);\n",
              "\n",
              "      const buffers = [];\n",
              "      let downloaded = 0;\n",
              "\n",
              "      const channel = await google.colab.kernel.comms.open(id);\n",
              "      // Send a message to notify the kernel that we're ready.\n",
              "      channel.send({})\n",
              "\n",
              "      for await (const message of channel.messages) {\n",
              "        // Send a message to notify the kernel that we're ready.\n",
              "        channel.send({})\n",
              "        if (message.buffers) {\n",
              "          for (const buffer of message.buffers) {\n",
              "            buffers.push(buffer);\n",
              "            downloaded += buffer.byteLength;\n",
              "            progress.value = downloaded;\n",
              "          }\n",
              "        }\n",
              "      }\n",
              "      const blob = new Blob(buffers, {type: 'application/binary'});\n",
              "      const a = document.createElement('a');\n",
              "      a.href = window.URL.createObjectURL(blob);\n",
              "      a.download = filename;\n",
              "      div.appendChild(a);\n",
              "      a.click();\n",
              "      div.remove();\n",
              "    }\n",
              "  "
            ]
          },
          "metadata": {}
        },
        {
          "output_type": "display_data",
          "data": {
            "text/plain": [
              "<IPython.core.display.Javascript object>"
            ],
            "application/javascript": [
              "download(\"download_b2962407-37ad-4f19-9fee-a89e9a009533\", \"FINAL_7_EXPERIMENTS_RESULTS.png\", 168104)"
            ]
          },
          "metadata": {}
        },
        {
          "output_type": "stream",
          "name": "stdout",
          "text": [
            "📥 Results downloaded to your computer!\n"
          ]
        }
      ]
    }
  ],
  "metadata": {
    "accelerator": "GPU",
    "colab": {
      "collapsed_sections": [
        "OHUcNb15U2vT",
        "WQPM3U9XU2vr"
      ],
      "provenance": [],
      "gpuType": "T4"
    },
    "hide_input": false,
    "kernelspec": {
      "display_name": "Python 3",
      "name": "python3"
    },
    "language_info": {
      "codemirror_mode": {
        "name": "ipython",
        "version": 3
      },
      "file_extension": ".py",
      "mimetype": "text/x-python",
      "name": "python",
      "nbconvert_exporter": "python",
      "pygments_lexer": "ipython3",
      "version": "3.10.9"
    },
    "toc": {
      "base_numbering": 1,
      "nav_menu": {},
      "number_sections": true,
      "sideBar": true,
      "skip_h1_title": false,
      "title_cell": "Table of Contents",
      "title_sidebar": "Contents",
      "toc_cell": false,
      "toc_position": {},
      "toc_section_display": true,
      "toc_window_display": false
    }
  },
  "nbformat": 4,
  "nbformat_minor": 0
}